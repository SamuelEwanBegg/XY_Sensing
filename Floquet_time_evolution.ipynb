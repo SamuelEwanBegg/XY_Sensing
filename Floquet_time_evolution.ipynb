{
 "cells": [
  {
   "cell_type": "code",
   "execution_count": 1,
   "metadata": {},
   "outputs": [],
   "source": [
    "import methods\n",
    "import numpy as np\n",
    "import scipy.linalg as lin\n",
    "from datetime import datetime\n",
    "import copy\n",
    "from joblib import Parallel, delayed\n",
    "import matplotlib.pyplot as plt\n",
    "\n",
    "stem0 = '/Users/samuelbegg/'\n",
    "stem = stem0  + 'Documents/Sensing/'\n",
    "num_cores = 16 #number of cores for parallelization\n",
    "\n",
    "# System parameters for periodic boundary condition spin chain\n",
    "J = 1.0  # +ve is Ferromagnet [Hamiltonian as defined Mishra, Bayat, PRL 127, 080504 (2021)]\n",
    "gamma = 1.0\n",
    "sites = 100\n",
    "h1_amp = 1.5 #amplitude of the drive\n",
    "h1_period = 2*3/4.0 #period of the drive\n",
    "\n",
    "# Initial state\n",
    "initial_state = 'ground_state' \n",
    "# 'ground_state': starts in the system ground-state. \n",
    "# 'flips': manually flips specific spins (with the rest down), see below. Default: single flip. Odd number of excitations (spin) = even parity (fermions) = PBC. \n",
    "# 'momentum': a k = 0 momentum state. Even parity = PBC.\n",
    "# 'spin_up': all spins up, odd number excitations (spin) = even parity = PBC, even number excitations (spin) = odd parity (fermions) = ABC\n",
    "\n",
    "# Boundary conditions\n",
    "boundary_conditions = 'ABC' \n",
    "# 'PBC' = periodic boundary conditions or 'ABC' = anti-periodic boundary conditions\n",
    "# The boundary conditions must reflect the fermion parity in the initial conditions (see above).\n",
    "# The Fourier transform definition is automatically adjusted based on number sites and boundary conditions, as in arXiv:1707.02400.\n",
    "\n",
    "# Time parameters\n",
    "dt = 0.01 # time step\n",
    "oneperiod_steps = int(h1_period/dt) # number of steps in one period\n",
    "final_time = 50 # time in stroboscopic units\n",
    "method = 'RK4' # integration method 'heun' or 'RK4'\n",
    "\n",
    "# Sensing parameters\n",
    "phasepoints = 1 # number of points for calculating h0\n",
    "h0mat = np.linspace(1.0, 1.0, phasepoints)  # range of h0 points to sample\n",
    "sub_system = 4 # range of subsystem sizes for evaluating Fisher information\n",
    "\n",
    "# Computational for Fisher information (with 2nd order derivate approximation)\n",
    "tol = 10**(-12) # when evaluating the Fisher information we don't consider singular terms for which |w[rr] + w[ss]| < tol \n",
    "shift = 10**(-5) # finite division size for calculating derivative of reduced density matrix, i.e. drho/dh0 ~ (rho(h0) - rho(h0 + shift))/shift for the order2 version\n",
    "#save_results = 'save' # 'save' or 'bin' (don't save)\n",
    "\n",
    "# Initialize the periodic field\n",
    "h1 = h1_amp*np.sin(2*np.pi/(h1_period)*dt*np.arange(0,oneperiod_steps)) # initialize periodic field\n",
    "h1_midpoint = h1_amp*np.sin(2*np.pi/(h1_period)*dt*(0.5 + np.arange(0,oneperiod_steps))) # vector at the mid-point between time-steps, required for RK4 due to explicit time-dependance\n",
    "\n"
   ]
  },
  {
   "cell_type": "markdown",
   "metadata": {},
   "source": [
    "Calculate the eigenvalues and state of the Floquet unitary"
   ]
  },
  {
   "cell_type": "code",
   "execution_count": 2,
   "metadata": {},
   "outputs": [
    {
     "name": "stdout",
     "output_type": "stream",
     "text": [
      "avoid singularity index 0\n",
      "avoid singularity index 0\n",
      "avoid singularity index 0\n",
      "avoid singularity index 0\n",
      "avoid singularity index 0\n",
      "avoid singularity index 0\n",
      "avoid singularity index 0\n",
      "avoid singularity index 0\n",
      "avoid singularity index 0\n",
      "avoid singularity index 0\n",
      "avoid singularity index 0\n",
      "avoid singularity index 0\n",
      "avoid singularity index 0\n",
      "avoid singularity index 0\n",
      "avoid singularity index 0\n",
      "avoid singularity index 0\n",
      "avoid singularity index 0\n",
      "avoid singularity index 0\n",
      "avoid singularity index 0\n",
      "avoid singularity index 0\n",
      "avoid singularity index 0\n",
      "avoid singularity index 0\n",
      "avoid singularity index 0\n",
      "avoid singularity index 0\n",
      "avoid singularity index 0\n",
      "avoid singularity index 0\n",
      "avoid singularity index 0\n",
      "avoid singularity index 0\n",
      "avoid singularity index 0\n",
      "avoid singularity index 0\n",
      "avoid singularity index 0\n",
      "avoid singularity index 0\n",
      "avoid singularity index 0\n",
      "avoid singularity index 0\n",
      "avoid singularity index 0\n",
      "avoid singularity index 0\n",
      "avoid singularity index 0\n",
      "avoid singularity index 0\n",
      "avoid singularity index 0\n",
      "avoid singularity index 0\n",
      "avoid singularity index 0\n",
      "avoid singularity index 0\n",
      "avoid singularity index 0\n",
      "avoid singularity index 0\n",
      "avoid singularity index 0\n",
      "avoid singularity index 0\n",
      "avoid singularity index 0\n",
      "avoid singularity index 0\n",
      "avoid singularity index 0\n"
     ]
    }
   ],
   "source": [
    "#def Fisher_floquet(J, gamma, h0, h1, h1_midpoint, time, oneperiod_steps, dt, sites, boundary_conditions, method):\n",
    "    \n",
    "# Calculate state after 1 period starting from a basis state. This is used to build Floquet unitary.\n",
    "\n",
    "h0 = h0mat[0]\n",
    "\n",
    "Fisher_mat = []\n",
    "particle_number = []\n",
    "quasi_energy = []\n",
    "\n",
    "basis_state = []\n",
    "\n",
    "for kk in range(0,sites):\n",
    "\n",
    "    basis_state = basis_state + [np.asarray([1,0])] #basis state is up (occupied state), initial down-state used in method\n",
    "\n",
    "state = methods.integrator_BdG(J, gamma, h0, h1, h1_midpoint, oneperiod_steps, dt, sites, boundary_conditions, basis_state, method)\n",
    "\n",
    "# Initial state is a list of vectors (u_k,v_k) \n",
    "# Build the Floquet unitary and calculate eigenvalues, eigenvectors in this basis\n",
    "eval, evec = methods.floquet_eigsystem(state)\n",
    "\n",
    "# Now again for the perturbed system\n",
    "basis_state = []\n",
    "\n",
    "for kk in range(0,sites):\n",
    "\n",
    "    basis_state = basis_state + [np.asarray([1,0])] #basis state is up (occupied state), initial down-state used in method\n",
    "\n",
    "state = methods.integrator_BdG(J, gamma, h0 + shift, h1, h1_midpoint, oneperiod_steps, dt, sites, boundary_conditions, basis_state, method)\n",
    "\n",
    "# Initial state is a list of vectors (u_k,v_k) \n",
    "# Build the Floquet unitary and calculate eigenvalues, eigenvectors in this basis\n",
    "eval_pert, evec_pert = methods.floquet_eigsystem(state)\n",
    "\n",
    "# Calculate the initial ground-state\n",
    "\n",
    "initial_state = methods.initial_BdG(J, gamma, h0, h1, sites, boundary_conditions)\n",
    "\n",
    "initial_state_pert = methods.initial_BdG(J, gamma, h0 + shift, h1, sites, boundary_conditions)\n",
    "\n",
    "for time in range(0,final_time):\n",
    "\n",
    "    #Unperturbed result\n",
    "    obs, Dag_obs, quasienergy = methods.floquet_evolution(J, gamma, h0, h1, h1_midpoint, time, oneperiod_steps, dt, sites, boundary_conditions, method, eval, evec, initial_state)\n",
    "\n",
    "    #Convert to the Majorana correlation matrix and calculate the Fisher information.\n",
    "    Gamma_mat = methods.fermion_to_Majorana(obs, Dag_obs, sub_system)\n",
    "\n",
    "    #Perturbed result\n",
    "    obs_pert, Dag_obs_pert, eigval_pert = methods.floquet_evolution(J, gamma, h0 + shift, h1, h1_midpoint, time, oneperiod_steps, dt, sites, boundary_conditions, method, eval_pert, evec_pert, initial_state_pert)\n",
    "\n",
    "    #Convert to the Majorana correlation matrix and calculate the Fisher information.\n",
    "    Gamma_pert = methods.fermion_to_Majorana(obs_pert, Dag_obs_pert, sub_system)\n",
    "    \n",
    "    #Fisher information from Gamma (majorana) correlation matrix for sub-system\n",
    "    Fisher = methods.Fisher_from_Gamma(Gamma_mat, Gamma_pert, shift, tol, sub_system)\n",
    "\n",
    "    Fisher_mat = Fisher_mat + [Fisher]\n",
    "\n",
    "    particle_number = particle_number + [obs[0,0]]\n",
    "\n",
    "\n",
    "#print(time)\n",
    "#output = Parallel(n_jobs=num_cores)(delayed(Fisher_floquet)(J, gamma, h0mat[phase], h1, h1_midpoint, time, oneperiod_steps, dt, sites, boundary_conditions, method) for phase in range(0,phasepoints))\n",
    "#collect output of parallel computation\n",
    "#for kk in range(0,phasepoints):\n",
    "#data = output[kk]\n",
    "#quasi_energy = quasi_energy + [data[2]]\n",
    "\n",
    "\n"
   ]
  },
  {
   "cell_type": "code",
   "execution_count": 3,
   "metadata": {},
   "outputs": [
    {
     "name": "stdout",
     "output_type": "stream",
     "text": [
      "(0.9261069381660834+9.009692127048129e-18j)\n",
      "[(0.7461615974829479-5.103843378423478e-19j), (0.7092989483822518+3.9884581910629603e-19j), (0.7006531607367854-1.3293725955924311e-18j), (0.7001400396634825-2.375337783445181e-18j), (0.7021152699465201+3.539826733231686e-18j), (0.7047396793675373+2.867283516337118e-18j), (0.7073362928810657+3.156835975659451e-19j), (0.7096279018035307-8.751030729083947e-19j), (0.7114958714693722-9.961965630886822e-19j), (0.7128970463058548-1.852930596273195e-19j), (0.7138317019799846+6.8385833733639795e-19j), (0.7143288262970329-2.7699563188176848e-18j), (0.7144375508020805-1.4666238075491764e-18j), (0.7142208858677379-3.5006496361030146e-19j), (0.7137504269851973+2.8242015787401926e-19j), (0.7131016104002372-5.698956544001214e-19j), (0.7123494408795786+1.2522373411562608e-18j), (0.7115647444909088+1.1397974603360825e-18j), (0.7108110399775263+1.8655526994490818e-19j), (0.7101421216351238+1.0098292040960345e-19j), (0.7096004253032495+2.023905961843573e-18j), (0.709216217935378+1.5128249995719627e-18j), (0.7090076172924447-5.372740759472274e-20j), (0.7089814175569344+7.737246867561853e-19j), (0.7091346753207086+4.728071136280856e-19j), (0.709457006578662+2.66621074786244e-18j), (0.7099335720909922-2.7818730860824875e-18j), (0.7105488106929149-5.820215670978875e-20j), (0.7112911724174245+3.2920087439280023e-19j), (0.712159539145188-8.99152553315671e-19j), (0.713173065793401+1.901982050688575e-19j), (0.7143889950719181-9.525947799300159e-19j), (0.715942219701189-1.57810532275168e-18j), (0.7181581064523705-1.7261630071538736e-18j), (0.72193260957021+3.6176677294771233e-19j), (0.729574390144718+4.3755563034705043e-20j), (0.7423165648592798-5.917989691369991e-19j), (0.7392391602376539+2.18036713927285e-18j), (0.6723575883326431-1.807348807880811e-20j), (0.6242564732900351-1.4284964053269538e-18j), (0.7316312615894819+9.340697667774175e-19j), (0.6952518923977391+3.552730674874533e-19j), (0.6813323664101536-4.2826404899858e-19j), (0.7222121737158469-5.317811629188879e-19j), (0.6809266943815597-9.069397681572343e-20j), (0.7110036471152692-6.966878188735176e-19j), (0.7068799125595626-2.9553541256131093e-19j), (0.6788621654246527-1.772399807946967e-18j), (0.7367752769019655+8.698988756290352e-19j)]\n"
     ]
    }
   ],
   "source": [
    "np.save('Results_Floquet/Fisher_mat.npy',Fisher_mat)\n",
    "np.save('Results_Floquet/h0mat.npy',h0mat)\n",
    "np.save('Results_Floquet/particle_number.npy',particle_number)\n",
    "np.save('Results_Floquet/final_time.npy',final_time)"
   ]
  },
  {
   "cell_type": "code",
   "execution_count": 4,
   "metadata": {},
   "outputs": [
    {
     "name": "stderr",
     "output_type": "stream",
     "text": [
      "/Users/samuelbegg/Library/Python/3.9/lib/python/site-packages/matplotlib/cbook.py:1699: ComplexWarning: Casting complex values to real discards the imaginary part\n",
      "  return math.isfinite(val)\n"
     ]
    },
    {
     "ename": "ValueError",
     "evalue": "x and y must have same first dimension, but have shapes (1,) and (49,)",
     "output_type": "error",
     "traceback": [
      "\u001b[0;31m---------------------------------------------------------------------------\u001b[0m",
      "\u001b[0;31mValueError\u001b[0m                                Traceback (most recent call last)",
      "Cell \u001b[0;32mIn[4], line 3\u001b[0m\n\u001b[1;32m      1\u001b[0m \u001b[38;5;66;03m# Ground-state (check get back the ground-state, which was the input but shows eigenvalues correct)\u001b[39;00m\n\u001b[0;32m----> 3\u001b[0m \u001b[43mplt\u001b[49m\u001b[38;5;241;43m.\u001b[39;49m\u001b[43mplot\u001b[49m\u001b[43m(\u001b[49m\u001b[43mh0mat\u001b[49m\u001b[43m \u001b[49m\u001b[43m,\u001b[49m\u001b[43m \u001b[49m\u001b[43mFisher_mat\u001b[49m\u001b[43m)\u001b[49m\n\u001b[1;32m      4\u001b[0m \u001b[38;5;28mprint\u001b[39m(final_time,np\u001b[38;5;241m.\u001b[39mround(Fisher_mat,\u001b[38;5;241m3\u001b[39m))\n\u001b[1;32m      6\u001b[0m Fisher_gs \u001b[38;5;241m=\u001b[39m np\u001b[38;5;241m.\u001b[39mload(\u001b[38;5;124m'\u001b[39m\u001b[38;5;124mResultsGS/Fisher_mat.npy\u001b[39m\u001b[38;5;124m'\u001b[39m)\n",
      "File \u001b[0;32m~/Library/Python/3.9/lib/python/site-packages/matplotlib/pyplot.py:3590\u001b[0m, in \u001b[0;36mplot\u001b[0;34m(scalex, scaley, data, *args, **kwargs)\u001b[0m\n\u001b[1;32m   3582\u001b[0m \u001b[38;5;129m@_copy_docstring_and_deprecators\u001b[39m(Axes\u001b[38;5;241m.\u001b[39mplot)\n\u001b[1;32m   3583\u001b[0m \u001b[38;5;28;01mdef\u001b[39;00m \u001b[38;5;21mplot\u001b[39m(\n\u001b[1;32m   3584\u001b[0m     \u001b[38;5;241m*\u001b[39margs: \u001b[38;5;28mfloat\u001b[39m \u001b[38;5;241m|\u001b[39m ArrayLike \u001b[38;5;241m|\u001b[39m \u001b[38;5;28mstr\u001b[39m,\n\u001b[0;32m   (...)\u001b[0m\n\u001b[1;32m   3588\u001b[0m     \u001b[38;5;241m*\u001b[39m\u001b[38;5;241m*\u001b[39mkwargs,\n\u001b[1;32m   3589\u001b[0m ) \u001b[38;5;241m-\u001b[39m\u001b[38;5;241m>\u001b[39m \u001b[38;5;28mlist\u001b[39m[Line2D]:\n\u001b[0;32m-> 3590\u001b[0m     \u001b[38;5;28;01mreturn\u001b[39;00m \u001b[43mgca\u001b[49m\u001b[43m(\u001b[49m\u001b[43m)\u001b[49m\u001b[38;5;241;43m.\u001b[39;49m\u001b[43mplot\u001b[49m\u001b[43m(\u001b[49m\n\u001b[1;32m   3591\u001b[0m \u001b[43m        \u001b[49m\u001b[38;5;241;43m*\u001b[39;49m\u001b[43margs\u001b[49m\u001b[43m,\u001b[49m\n\u001b[1;32m   3592\u001b[0m \u001b[43m        \u001b[49m\u001b[43mscalex\u001b[49m\u001b[38;5;241;43m=\u001b[39;49m\u001b[43mscalex\u001b[49m\u001b[43m,\u001b[49m\n\u001b[1;32m   3593\u001b[0m \u001b[43m        \u001b[49m\u001b[43mscaley\u001b[49m\u001b[38;5;241;43m=\u001b[39;49m\u001b[43mscaley\u001b[49m\u001b[43m,\u001b[49m\n\u001b[1;32m   3594\u001b[0m \u001b[43m        \u001b[49m\u001b[38;5;241;43m*\u001b[39;49m\u001b[38;5;241;43m*\u001b[39;49m\u001b[43m(\u001b[49m\u001b[43m{\u001b[49m\u001b[38;5;124;43m\"\u001b[39;49m\u001b[38;5;124;43mdata\u001b[39;49m\u001b[38;5;124;43m\"\u001b[39;49m\u001b[43m:\u001b[49m\u001b[43m \u001b[49m\u001b[43mdata\u001b[49m\u001b[43m}\u001b[49m\u001b[43m \u001b[49m\u001b[38;5;28;43;01mif\u001b[39;49;00m\u001b[43m \u001b[49m\u001b[43mdata\u001b[49m\u001b[43m \u001b[49m\u001b[38;5;129;43;01mis\u001b[39;49;00m\u001b[43m \u001b[49m\u001b[38;5;129;43;01mnot\u001b[39;49;00m\u001b[43m \u001b[49m\u001b[38;5;28;43;01mNone\u001b[39;49;00m\u001b[43m \u001b[49m\u001b[38;5;28;43;01melse\u001b[39;49;00m\u001b[43m \u001b[49m\u001b[43m{\u001b[49m\u001b[43m}\u001b[49m\u001b[43m)\u001b[49m\u001b[43m,\u001b[49m\n\u001b[1;32m   3595\u001b[0m \u001b[43m        \u001b[49m\u001b[38;5;241;43m*\u001b[39;49m\u001b[38;5;241;43m*\u001b[39;49m\u001b[43mkwargs\u001b[49m\u001b[43m,\u001b[49m\n\u001b[1;32m   3596\u001b[0m \u001b[43m    \u001b[49m\u001b[43m)\u001b[49m\n",
      "File \u001b[0;32m~/Library/Python/3.9/lib/python/site-packages/matplotlib/axes/_axes.py:1724\u001b[0m, in \u001b[0;36mAxes.plot\u001b[0;34m(self, scalex, scaley, data, *args, **kwargs)\u001b[0m\n\u001b[1;32m   1481\u001b[0m \u001b[38;5;250m\u001b[39m\u001b[38;5;124;03m\"\"\"\u001b[39;00m\n\u001b[1;32m   1482\u001b[0m \u001b[38;5;124;03mPlot y versus x as lines and/or markers.\u001b[39;00m\n\u001b[1;32m   1483\u001b[0m \n\u001b[0;32m   (...)\u001b[0m\n\u001b[1;32m   1721\u001b[0m \u001b[38;5;124;03m(``'green'``) or hex strings (``'#008000'``).\u001b[39;00m\n\u001b[1;32m   1722\u001b[0m \u001b[38;5;124;03m\"\"\"\u001b[39;00m\n\u001b[1;32m   1723\u001b[0m kwargs \u001b[38;5;241m=\u001b[39m cbook\u001b[38;5;241m.\u001b[39mnormalize_kwargs(kwargs, mlines\u001b[38;5;241m.\u001b[39mLine2D)\n\u001b[0;32m-> 1724\u001b[0m lines \u001b[38;5;241m=\u001b[39m [\u001b[38;5;241m*\u001b[39m\u001b[38;5;28mself\u001b[39m\u001b[38;5;241m.\u001b[39m_get_lines(\u001b[38;5;28mself\u001b[39m, \u001b[38;5;241m*\u001b[39margs, data\u001b[38;5;241m=\u001b[39mdata, \u001b[38;5;241m*\u001b[39m\u001b[38;5;241m*\u001b[39mkwargs)]\n\u001b[1;32m   1725\u001b[0m \u001b[38;5;28;01mfor\u001b[39;00m line \u001b[38;5;129;01min\u001b[39;00m lines:\n\u001b[1;32m   1726\u001b[0m     \u001b[38;5;28mself\u001b[39m\u001b[38;5;241m.\u001b[39madd_line(line)\n",
      "File \u001b[0;32m~/Library/Python/3.9/lib/python/site-packages/matplotlib/axes/_base.py:303\u001b[0m, in \u001b[0;36m_process_plot_var_args.__call__\u001b[0;34m(self, axes, data, *args, **kwargs)\u001b[0m\n\u001b[1;32m    301\u001b[0m     this \u001b[38;5;241m+\u001b[39m\u001b[38;5;241m=\u001b[39m args[\u001b[38;5;241m0\u001b[39m],\n\u001b[1;32m    302\u001b[0m     args \u001b[38;5;241m=\u001b[39m args[\u001b[38;5;241m1\u001b[39m:]\n\u001b[0;32m--> 303\u001b[0m \u001b[38;5;28;01myield from\u001b[39;00m \u001b[38;5;28;43mself\u001b[39;49m\u001b[38;5;241;43m.\u001b[39;49m\u001b[43m_plot_args\u001b[49m\u001b[43m(\u001b[49m\n\u001b[1;32m    304\u001b[0m \u001b[43m    \u001b[49m\u001b[43maxes\u001b[49m\u001b[43m,\u001b[49m\u001b[43m \u001b[49m\u001b[43mthis\u001b[49m\u001b[43m,\u001b[49m\u001b[43m \u001b[49m\u001b[43mkwargs\u001b[49m\u001b[43m,\u001b[49m\u001b[43m \u001b[49m\u001b[43mambiguous_fmt_datakey\u001b[49m\u001b[38;5;241;43m=\u001b[39;49m\u001b[43mambiguous_fmt_datakey\u001b[49m\u001b[43m)\u001b[49m\n",
      "File \u001b[0;32m~/Library/Python/3.9/lib/python/site-packages/matplotlib/axes/_base.py:499\u001b[0m, in \u001b[0;36m_process_plot_var_args._plot_args\u001b[0;34m(self, axes, tup, kwargs, return_kwargs, ambiguous_fmt_datakey)\u001b[0m\n\u001b[1;32m    496\u001b[0m     axes\u001b[38;5;241m.\u001b[39myaxis\u001b[38;5;241m.\u001b[39mupdate_units(y)\n\u001b[1;32m    498\u001b[0m \u001b[38;5;28;01mif\u001b[39;00m x\u001b[38;5;241m.\u001b[39mshape[\u001b[38;5;241m0\u001b[39m] \u001b[38;5;241m!=\u001b[39m y\u001b[38;5;241m.\u001b[39mshape[\u001b[38;5;241m0\u001b[39m]:\n\u001b[0;32m--> 499\u001b[0m     \u001b[38;5;28;01mraise\u001b[39;00m \u001b[38;5;167;01mValueError\u001b[39;00m(\u001b[38;5;124mf\u001b[39m\u001b[38;5;124m\"\u001b[39m\u001b[38;5;124mx and y must have same first dimension, but \u001b[39m\u001b[38;5;124m\"\u001b[39m\n\u001b[1;32m    500\u001b[0m                      \u001b[38;5;124mf\u001b[39m\u001b[38;5;124m\"\u001b[39m\u001b[38;5;124mhave shapes \u001b[39m\u001b[38;5;132;01m{\u001b[39;00mx\u001b[38;5;241m.\u001b[39mshape\u001b[38;5;132;01m}\u001b[39;00m\u001b[38;5;124m and \u001b[39m\u001b[38;5;132;01m{\u001b[39;00my\u001b[38;5;241m.\u001b[39mshape\u001b[38;5;132;01m}\u001b[39;00m\u001b[38;5;124m\"\u001b[39m)\n\u001b[1;32m    501\u001b[0m \u001b[38;5;28;01mif\u001b[39;00m x\u001b[38;5;241m.\u001b[39mndim \u001b[38;5;241m>\u001b[39m \u001b[38;5;241m2\u001b[39m \u001b[38;5;129;01mor\u001b[39;00m y\u001b[38;5;241m.\u001b[39mndim \u001b[38;5;241m>\u001b[39m \u001b[38;5;241m2\u001b[39m:\n\u001b[1;32m    502\u001b[0m     \u001b[38;5;28;01mraise\u001b[39;00m \u001b[38;5;167;01mValueError\u001b[39;00m(\u001b[38;5;124mf\u001b[39m\u001b[38;5;124m\"\u001b[39m\u001b[38;5;124mx and y can be no greater than 2D, but have \u001b[39m\u001b[38;5;124m\"\u001b[39m\n\u001b[1;32m    503\u001b[0m                      \u001b[38;5;124mf\u001b[39m\u001b[38;5;124m\"\u001b[39m\u001b[38;5;124mshapes \u001b[39m\u001b[38;5;132;01m{\u001b[39;00mx\u001b[38;5;241m.\u001b[39mshape\u001b[38;5;132;01m}\u001b[39;00m\u001b[38;5;124m and \u001b[39m\u001b[38;5;132;01m{\u001b[39;00my\u001b[38;5;241m.\u001b[39mshape\u001b[38;5;132;01m}\u001b[39;00m\u001b[38;5;124m\"\u001b[39m)\n",
      "\u001b[0;31mValueError\u001b[0m: x and y must have same first dimension, but have shapes (1,) and (49,)"
     ]
    },
    {
     "data": {
      "image/png": "[encoded data removed]",
      "text/plain": [
       "<Figure size 640x480 with 1 Axes>"
      ]
     },
     "metadata": {},
     "output_type": "display_data"
    }
   ],
   "source": [
    "# Ground-state (check get back the ground-state, which was the input but shows eigenvalues correct)\n",
    "\n",
    "plt.plot(h0mat , Fisher_mat)\n",
    "print(final_time,np.round(Fisher_mat,3))\n",
    "\n",
    "Fisher_gs = np.load('ResultsGS/Fisher_mat.npy')\n",
    "x = np.load('ResultsGS/h0mat.npy')\n",
    "\n",
    "plt.plot(x , Fisher_gs, '--')\n",
    "plt.show()\n"
   ]
  }
 ],
 "metadata": {
  "kernelspec": {
   "display_name": "Python 3",
   "language": "python",
   "name": "python3"
  },
  "language_info": {
   "codemirror_mode": {
    "name": "ipython",
    "version": 3
   },
   "file_extension": ".py",
   "mimetype": "text/x-python",
   "name": "python",
   "nbconvert_exporter": "python",
   "pygments_lexer": "ipython3",
   "version": "3.9.6"
  }
 },
 "nbformat": 4,
 "nbformat_minor": 2
}
